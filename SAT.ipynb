{
 "cells": [
  {
   "cell_type": "markdown",
   "metadata": {},
   "source": [
    "\n",
    "\"\"\"Data structure of a formula F.\n",
    "   -----------------------------\n",
    "    A variable is a string (with no ',', no '&', no ' ' and no '-')\n",
    "    A positive literal is a variable. \n",
    "    A negative literal is a variable with an additional '-' as first character.\n",
    "    A clause is a list of literals.\n",
    "    A formula is a list of clauses.\n",
    "    \n",
    "    The dictionary of a formula is the dictionary whose keys are the variables\n",
    "    of the formula. \n",
    "\n",
    "   Boolean values of variables, literals, clauses, formulas.\n",
    "   ---------------------------------------------------------\n",
    "    An assignment for a formula is a Boolean value for each variable of the \n",
    "    dictionary of the formula. \n",
    "    Given a formula F and an assignment A:\n",
    "        The boolean value of a positive literal with variable x is the Boolean\n",
    "            value of A[x].\n",
    "        The boolean value of a negative literal with variable x (-x) is the \n",
    "            Boolean value of not(A[x]).\n",
    "        The boolean value of a clause is the logical OR Boolean value \n",
    "            of its literals. A clause is 'satisfied' if its value is True.\n",
    "        The boolean value of a formula is the logical AND Boolean value \n",
    "            of its clauses. A formula is 'satisfied' if its value is True.\n",
    "    \n",
    "    Illustration.\n",
    "    ------------\n",
    "    F = [['a', '-b', 'c'], ['-a', 'b', '-d'], ['a', 'b', 'c'], ['-b', 'd', '-e']]\n",
    "    The dictionary of F has keys 'a', 'b', 'c', 'd', 'e'\n",
    "    An example of an assignment:\n",
    "     {'a':False, 'b':True, 'c':True, 'd':False, 'e':False}\n",
    "    \"\"\"\n"
   ]
  },
  {
   "cell_type": "code",
   "execution_count": 167,
   "metadata": {},
   "outputs": [],
   "source": [
    "import random"
   ]
  },
  {
   "cell_type": "code",
   "execution_count": 168,
   "metadata": {},
   "outputs": [],
   "source": [
    "def get_formula_from_file(file):\n",
    "    ma_liste=[]\n",
    "    fichier = open(file,\"r\")\n",
    "    for ligne in fichier:\n",
    "            x=ligne.split('&')\n",
    "            for clause in x:\n",
    "                ma_liste.append(clause.split(','))\n",
    "    fichier.close()\n",
    "    return ma_liste\n",
    "   "
   ]
  },
  {
   "cell_type": "code",
   "execution_count": 169,
   "metadata": {},
   "outputs": [
    {
     "data": {
      "text/plain": [
       "[['a', '-b', 'cloclo'],\n",
       " ['b', '-a', '-c'],\n",
       " ['d', '-a', '-b'],\n",
       " ['-cloclo', '-name', '-a', '-b']]"
      ]
     },
     "execution_count": 169,
     "metadata": {},
     "output_type": "execute_result"
    }
   ],
   "source": [
    "F=get_formula_from_file(\"formula.txt\")\n",
    "F"
   ]
  },
  {
   "cell_type": "code",
   "execution_count": 170,
   "metadata": {},
   "outputs": [],
   "source": [
    "def variable_of_literal(literal):\n",
    "    variable=literal\n",
    "    if literal[0]=='-':\n",
    "        variable=literal[1:]\n",
    "    return variable"
   ]
  },
  {
   "cell_type": "code",
   "execution_count": 171,
   "metadata": {},
   "outputs": [
    {
     "data": {
      "text/plain": [
       "'a'"
      ]
     },
     "execution_count": 171,
     "metadata": {},
     "output_type": "execute_result"
    }
   ],
   "source": [
    "variable_of_literal('a')"
   ]
  },
  {
   "cell_type": "code",
   "execution_count": 172,
   "metadata": {},
   "outputs": [
    {
     "data": {
      "text/plain": [
       "'abc'"
      ]
     },
     "execution_count": 172,
     "metadata": {},
     "output_type": "execute_result"
    }
   ],
   "source": [
    "variable_of_literal('abc')"
   ]
  },
  {
   "cell_type": "code",
   "execution_count": 173,
   "metadata": {},
   "outputs": [
    {
     "data": {
      "text/plain": [
       "'abc'"
      ]
     },
     "execution_count": 173,
     "metadata": {},
     "output_type": "execute_result"
    }
   ],
   "source": [
    "variable_of_literal('-abc')"
   ]
  },
  {
   "cell_type": "code",
   "execution_count": 174,
   "metadata": {},
   "outputs": [],
   "source": [
    "def sign_of_literal(literal):\n",
    "    sign= '+'\n",
    "    if literal[0]=='-':\n",
    "        sign='-'\n",
    "    return sign"
   ]
  },
  {
   "cell_type": "code",
   "execution_count": 175,
   "metadata": {},
   "outputs": [
    {
     "data": {
      "text/plain": [
       "'-'"
      ]
     },
     "execution_count": 175,
     "metadata": {},
     "output_type": "execute_result"
    }
   ],
   "source": [
    "sign_of_literal('-abc')"
   ]
  },
  {
   "cell_type": "code",
   "execution_count": 199,
   "metadata": {},
   "outputs": [],
   "source": [
    "def set_of_variables_from_formula(formule):\n",
    "    return { variable_of_literal(literal) for clause in formula \n",
    "            for literal in clause}"
   ]
  },
  {
   "cell_type": "code",
   "execution_count": 201,
   "metadata": {},
   "outputs": [
    {
     "name": "stdout",
     "output_type": "stream",
     "text": [
      "{'c', 'b', 'name', 'cloclo', 'a', 'd'}\n"
     ]
    }
   ],
   "source": [
    "k=set_of_variables_from_formula(F)\n",
    "print(k)"
   ]
  },
  {
   "cell_type": "code",
   "execution_count": 202,
   "metadata": {},
   "outputs": [],
   "source": [
    "def construct_dictionary_from_vars(set_of_vars):\n",
    "    return{v: None for v in set_of_vars}"
   ]
  },
  {
   "cell_type": "code",
   "execution_count": 218,
   "metadata": {},
   "outputs": [
    {
     "data": {
      "text/plain": [
       "{'a': None, 'b': None, 'cloclo': None, 'c': None, 'd': None, 'name': None}"
      ]
     },
     "execution_count": 218,
     "metadata": {},
     "output_type": "execute_result"
    }
   ],
   "source": [
    "dictionnaire=construct_dictionary_from_vars(set)\n",
    "dictionnaire"
   ]
  },
  {
   "cell_type": "code",
   "execution_count": 241,
   "metadata": {},
   "outputs": [],
   "source": [
    "def random_assignment(d):\n",
    "    for x in d:\n",
    "        d[x]=random.choice([True,False])"
   ]
  },
  {
   "cell_type": "code",
   "execution_count": 302,
   "metadata": {},
   "outputs": [
    {
     "name": "stdout",
     "output_type": "stream",
     "text": [
      "{'a': False, 'b': True, 'cloclo': True, 'c': False, 'd': False, 'name': True}\n"
     ]
    }
   ],
   "source": [
    "random_assignment(dictionnaire)\n",
    "print(dictionnaire)"
   ]
  },
  {
   "cell_type": "code",
   "execution_count": 303,
   "metadata": {},
   "outputs": [],
   "source": [
    "def boolean_value_of_literal(assignment, literal):\n",
    "    variable_literal=variable_of_literal(literal)\n",
    "    if sign_of_literal(literal)=='+':\n",
    "        boolean_value=assignment[variable_literal]\n",
    "    else:\n",
    "        boolean_value=not(assignment[variable_literal])\n",
    "    return boolean_value"
   ]
  },
  {
   "cell_type": "code",
   "execution_count": 304,
   "metadata": {},
   "outputs": [
    {
     "name": "stdout",
     "output_type": "stream",
     "text": [
      "None\n"
     ]
    }
   ],
   "source": [
    "print(dict_assignment)"
   ]
  },
  {
   "cell_type": "code",
   "execution_count": 305,
   "metadata": {},
   "outputs": [
    {
     "data": {
      "text/plain": [
       "True"
      ]
     },
     "execution_count": 305,
     "metadata": {},
     "output_type": "execute_result"
    }
   ],
   "source": [
    "boolean_value_of_literal(dictionnaire, '-c')"
   ]
  },
  {
   "cell_type": "code",
   "execution_count": 306,
   "metadata": {},
   "outputs": [
    {
     "data": {
      "text/plain": [
       "True"
      ]
     },
     "execution_count": 306,
     "metadata": {},
     "output_type": "execute_result"
    }
   ],
   "source": [
    "boolean_value_of_literal(dictionnaire, 'cloclo')"
   ]
  },
  {
   "cell_type": "code",
   "execution_count": 307,
   "metadata": {},
   "outputs": [],
   "source": [
    "def boolean_value_of_clause(assignment, clause):\n",
    "    boolean_clause=False\n",
    "    if True in assignment.values():\n",
    "        boolean_clause=True\n",
    "    return boolean_clause"
   ]
  },
  {
   "cell_type": "code",
   "execution_count": 308,
   "metadata": {},
   "outputs": [
    {
     "data": {
      "text/plain": [
       "{'a': False, 'b': True, 'cloclo': True, 'c': False, 'd': False, 'name': True}"
      ]
     },
     "execution_count": 308,
     "metadata": {},
     "output_type": "execute_result"
    }
   ],
   "source": [
    "dictionnaire"
   ]
  },
  {
   "cell_type": "code",
   "execution_count": 309,
   "metadata": {},
   "outputs": [
    {
     "data": {
      "text/plain": [
       "True"
      ]
     },
     "execution_count": 309,
     "metadata": {},
     "output_type": "execute_result"
    }
   ],
   "source": [
    "boolean_value_of_clause(dictionnaire, ['a','-c','b'])"
   ]
  },
  {
   "cell_type": "code",
   "execution_count": 310,
   "metadata": {},
   "outputs": [
    {
     "data": {
      "text/plain": [
       "True"
      ]
     },
     "execution_count": 310,
     "metadata": {},
     "output_type": "execute_result"
    }
   ],
   "source": [
    "boolean_value_of_clause(dictionnaire, ['-a','-c','b'])"
   ]
  },
  {
   "cell_type": "code",
   "execution_count": 311,
   "metadata": {},
   "outputs": [],
   "source": [
    "def boolean_value_of_formula(assignment, formula):\n",
    "    for clause in formula:\n",
    "        if not boolean_value_of_clause(assignment, clause):\n",
    "            return False\n",
    "    return True"
   ]
  },
  {
   "cell_type": "code",
   "execution_count": 312,
   "metadata": {},
   "outputs": [
    {
     "data": {
      "text/plain": [
       "{'a': False, 'b': True, 'cloclo': True, 'c': False, 'd': False, 'name': True}"
      ]
     },
     "execution_count": 312,
     "metadata": {},
     "output_type": "execute_result"
    }
   ],
   "source": [
    "dictionnaire"
   ]
  },
  {
   "cell_type": "code",
   "execution_count": 313,
   "metadata": {},
   "outputs": [
    {
     "data": {
      "text/plain": [
       "[['a', '-b', 'cloclo'],\n",
       " ['b', '-a', '-c'],\n",
       " ['d', '-a', '-b'],\n",
       " ['-cloclo', '-name', '-a', '-b']]"
      ]
     },
     "execution_count": 313,
     "metadata": {},
     "output_type": "execute_result"
    }
   ],
   "source": [
    "F"
   ]
  },
  {
   "cell_type": "code",
   "execution_count": 314,
   "metadata": {},
   "outputs": [
    {
     "data": {
      "text/plain": [
       "True"
      ]
     },
     "execution_count": 314,
     "metadata": {},
     "output_type": "execute_result"
    }
   ],
   "source": [
    "boolean_value_of_formula(dictionnaire, F)"
   ]
  },
  {
   "cell_type": "code",
   "execution_count": 315,
   "metadata": {},
   "outputs": [],
   "source": [
    "def number_of_true_clauses(assignment, formula):\n",
    "    nombre_true_clauses=0\n",
    "    for clause in formula:\n",
    "        if boolean_value_of_clause(assignment, clause):\n",
    "            nombre_true_clauses+=1\n",
    "    return nombre_true_clauses"
   ]
  },
  {
   "cell_type": "code",
   "execution_count": 316,
   "metadata": {},
   "outputs": [
    {
     "data": {
      "text/plain": [
       "4"
      ]
     },
     "execution_count": 316,
     "metadata": {},
     "output_type": "execute_result"
    }
   ],
   "source": [
    "number_of_true_clauses(dictionnaire,F)"
   ]
  },
  {
   "cell_type": "code",
   "execution_count": 317,
   "metadata": {},
   "outputs": [],
   "source": [
    "def number_of_clauses(formula):\n",
    "    return len(formula)"
   ]
  },
  {
   "cell_type": "code",
   "execution_count": 318,
   "metadata": {},
   "outputs": [
    {
     "data": {
      "text/plain": [
       "4"
      ]
     },
     "execution_count": 318,
     "metadata": {},
     "output_type": "execute_result"
    }
   ],
   "source": [
    "number_of_clauses(F)"
   ]
  },
  {
   "cell_type": "code",
   "execution_count": null,
   "metadata": {},
   "outputs": [],
   "source": []
  }
 ],
 "metadata": {
  "kernelspec": {
   "display_name": "Python 3 (ipykernel)",
   "language": "python",
   "name": "python3"
  },
  "language_info": {
   "codemirror_mode": {
    "name": "ipython",
    "version": 3
   },
   "file_extension": ".py",
   "mimetype": "text/x-python",
   "name": "python",
   "nbconvert_exporter": "python",
   "pygments_lexer": "ipython3",
   "version": "3.11.0rc2"
  }
 },
 "nbformat": 4,
 "nbformat_minor": 4
}
